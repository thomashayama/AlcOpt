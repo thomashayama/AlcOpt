{
 "cells": [
  {
   "cell_type": "code",
   "execution_count": 34,
   "metadata": {},
   "outputs": [],
   "source": [
    "max_volume = 1.750 #L\n",
    "\n",
    "honey_sugar = 17/14.7868 * 1000 #g/L\n",
    "honey_density = 21/14.7868 * 1000 #g/L\n",
    "\n",
    "liquid_sugar = 26/.24\n",
    "liquid_density = 1026\n",
    "\n",
    "target_abv = 12     # in %\n",
    "sugar_per_abv = 17"
   ]
  },
  {
   "cell_type": "code",
   "execution_count": 35,
   "metadata": {},
   "outputs": [
    {
     "name": "stdout",
     "output_type": "stream",
     "text": [
      "357.0\n"
     ]
    }
   ],
   "source": [
    "target_sugar = target_abv * sugar_per_abv * max_volume\n",
    "print(target_sugar)"
   ]
  },
  {
   "cell_type": "code",
   "execution_count": 36,
   "metadata": {},
   "outputs": [
    {
     "name": "stdout",
     "output_type": "stream",
     "text": [
      "L Liquid 1.5892296905093681\n",
      "g Liquid 1630.5496624626116\n",
      "L Honey 0.1607703094906318\n",
      "g Honey 228.3236737700698\n"
     ]
    }
   ],
   "source": [
    "honey_vol = (target_sugar-max_volume*liquid_sugar)/(honey_sugar-liquid_sugar)\n",
    "liquid_vol = max_volume - honey_vol\n",
    "\n",
    "print(\"L Liquid\", liquid_vol)\n",
    "print(\"g Liquid\", liquid_vol * liquid_density)\n",
    "print(\"L Honey\", honey_vol)\n",
    "print(\"g Honey\", honey_vol * honey_density)"
   ]
  },
  {
   "cell_type": "code",
   "execution_count": 37,
   "metadata": {},
   "outputs": [
    {
     "data": {
      "text/html": [
       "<div>\n",
       "<style scoped>\n",
       "    .dataframe tbody tr th:only-of-type {\n",
       "        vertical-align: middle;\n",
       "    }\n",
       "\n",
       "    .dataframe tbody tr th {\n",
       "        vertical-align: top;\n",
       "    }\n",
       "\n",
       "    .dataframe thead th {\n",
       "        text-align: right;\n",
       "    }\n",
       "</style>\n",
       "<table border=\"1\" class=\"dataframe\">\n",
       "  <thead>\n",
       "    <tr style=\"text-align: right;\">\n",
       "      <th></th>\n",
       "      <th>Parameter</th>\n",
       "      <th>Value</th>\n",
       "    </tr>\n",
       "  </thead>\n",
       "  <tbody>\n",
       "    <tr>\n",
       "      <th>0</th>\n",
       "      <td>max_volume</td>\n",
       "      <td>1.750000</td>\n",
       "    </tr>\n",
       "    <tr>\n",
       "      <th>1</th>\n",
       "      <td>honey_sugar</td>\n",
       "      <td>1149.674034</td>\n",
       "    </tr>\n",
       "    <tr>\n",
       "      <th>2</th>\n",
       "      <td>honey_density</td>\n",
       "      <td>1420.185571</td>\n",
       "    </tr>\n",
       "    <tr>\n",
       "      <th>3</th>\n",
       "      <td>liquid_sugar</td>\n",
       "      <td>108.333333</td>\n",
       "    </tr>\n",
       "    <tr>\n",
       "      <th>4</th>\n",
       "      <td>liquid_density</td>\n",
       "      <td>1026.000000</td>\n",
       "    </tr>\n",
       "    <tr>\n",
       "      <th>5</th>\n",
       "      <td>target_abv</td>\n",
       "      <td>12.000000</td>\n",
       "    </tr>\n",
       "    <tr>\n",
       "      <th>6</th>\n",
       "      <td>sugar_per_abv</td>\n",
       "      <td>17.000000</td>\n",
       "    </tr>\n",
       "    <tr>\n",
       "      <th>7</th>\n",
       "      <td>target_sugar</td>\n",
       "      <td>357.000000</td>\n",
       "    </tr>\n",
       "    <tr>\n",
       "      <th>8</th>\n",
       "      <td>L Liquid</td>\n",
       "      <td>1.589230</td>\n",
       "    </tr>\n",
       "    <tr>\n",
       "      <th>9</th>\n",
       "      <td>g Liquid</td>\n",
       "      <td>1630.549662</td>\n",
       "    </tr>\n",
       "    <tr>\n",
       "      <th>10</th>\n",
       "      <td>L Honey</td>\n",
       "      <td>0.160770</td>\n",
       "    </tr>\n",
       "    <tr>\n",
       "      <th>11</th>\n",
       "      <td>g Honey</td>\n",
       "      <td>228.323674</td>\n",
       "    </tr>\n",
       "  </tbody>\n",
       "</table>\n",
       "</div>"
      ],
      "text/plain": [
       "         Parameter        Value\n",
       "0       max_volume     1.750000\n",
       "1      honey_sugar  1149.674034\n",
       "2    honey_density  1420.185571\n",
       "3     liquid_sugar   108.333333\n",
       "4   liquid_density  1026.000000\n",
       "5       target_abv    12.000000\n",
       "6    sugar_per_abv    17.000000\n",
       "7     target_sugar   357.000000\n",
       "8         L Liquid     1.589230\n",
       "9         g Liquid  1630.549662\n",
       "10         L Honey     0.160770\n",
       "11         g Honey   228.323674"
      ]
     },
     "execution_count": 37,
     "metadata": {},
     "output_type": "execute_result"
    }
   ],
   "source": [
    "import pandas as pd\n",
    "\n",
    "printout_data = [\n",
    "    {\"Parameter\": \"max_volume\", \"Value\": max_volume}, \n",
    "    {\"Parameter\": \"honey_sugar\", \"Value\": honey_sugar}, \n",
    "    {\"Parameter\": \"honey_density\", \"Value\": honey_density}, \n",
    "    {\"Parameter\": \"liquid_sugar\", \"Value\": liquid_sugar}, \n",
    "    {\"Parameter\": \"liquid_density\", \"Value\": liquid_density}, \n",
    "    {\"Parameter\": \"target_abv\", \"Value\": target_abv}, \n",
    "    {\"Parameter\": \"sugar_per_abv\", \"Value\": sugar_per_abv}, \n",
    "    {\"Parameter\": \"target_sugar\", \"Value\": target_sugar}, \n",
    "    {\"Parameter\": \"L Liquid\", \"Value\": liquid_vol}, \n",
    "    {\"Parameter\": \"g Liquid\", \"Value\": liquid_vol * liquid_density}, \n",
    "    {\"Parameter\": \"L Honey\", \"Value\": honey_vol}, \n",
    "    {\"Parameter\": \"g Honey\", \"Value\": honey_vol * honey_density}, \n",
    "    ]\n",
    "\n",
    "printout = pd.DataFrame(printout_data)\n",
    "printout"
   ]
  },
  {
   "cell_type": "code",
   "execution_count": 38,
   "metadata": {},
   "outputs": [
    {
     "name": "stdout",
     "output_type": "stream",
     "text": [
      "     Parameter       Value\n",
      "    max_volume    1.750000\n",
      "   honey_sugar 1149.674034\n",
      " honey_density 1420.185571\n",
      "  liquid_sugar  108.333333\n",
      "liquid_density 1026.000000\n",
      "    target_abv   12.000000\n",
      " sugar_per_abv   17.000000\n",
      "  target_sugar  357.000000\n",
      "      L Liquid    1.589230\n",
      "      g Liquid 1630.549662\n",
      "       L Honey    0.160770\n",
      "       g Honey  228.323674\n"
     ]
    }
   ],
   "source": [
    "print(printout.to_string(index=False))"
   ]
  }
 ],
 "metadata": {
  "kernelspec": {
   "display_name": "base",
   "language": "python",
   "name": "python3"
  },
  "language_info": {
   "codemirror_mode": {
    "name": "ipython",
    "version": 3
   },
   "file_extension": ".py",
   "mimetype": "text/x-python",
   "name": "python",
   "nbconvert_exporter": "python",
   "pygments_lexer": "ipython3",
   "version": "3.9.13"
  },
  "orig_nbformat": 4
 },
 "nbformat": 4,
 "nbformat_minor": 2
}
